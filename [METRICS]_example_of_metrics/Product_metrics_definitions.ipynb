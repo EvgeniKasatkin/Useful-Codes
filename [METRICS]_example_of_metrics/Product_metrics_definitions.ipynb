{
 "cells": [
  {
   "cell_type": "code",
   "execution_count": null,
   "id": "e7e7f44c-bd05-41ff-82d9-28d0d7f0beb1",
   "metadata": {},
   "outputs": [],
   "source": [
    "import numpy as np\n",
    "\n",
    "list_of_orders = [5, 0, 2, 3, 4, 2,\t3, 1, 0, 0]\n",
    "list_of_revenues = [15000, 0, 4000,\t4000, 7000, 1500, 2500,\t1000, 0, 0]\n",
    "\n",
    "\n",
    "AOV = np.sum(list_of_revenues)/np.sum(list_of_orders)\n",
    "ARPU = np.sum(list_of_revenues)/len(list_of_orders)\n",
    "\n",
    "list_of_revenue_users = [x for x in list_of_orders if x > 0]\n",
    "ARPPU = np.sum(list_of_revenues)/len(list_of_revenue_users)\n",
    "\n",
    "PayingShare = len(list_of_revenue_users)/len(list_of_orders)\n",
    "\n",
    "#ARPU = ARPPU*PayingShare\n",
    "#ARPU = ARPPU*CR\n"
   ]
  },
  {
   "cell_type": "code",
   "execution_count": null,
   "id": "3f55d319-2a86-4992-b192-ab99772a3156",
   "metadata": {},
   "outputs": [],
   "source": []
  },
  {
   "cell_type": "code",
   "execution_count": null,
   "id": "62fd2a9d-e326-40d8-aab0-a6e64cf8b409",
   "metadata": {},
   "outputs": [],
   "source": []
  },
  {
   "cell_type": "code",
   "execution_count": null,
   "id": "45f8e925-1a99-4306-9284-e3a9626842da",
   "metadata": {},
   "outputs": [],
   "source": []
  },
  {
   "cell_type": "code",
   "execution_count": null,
   "id": "72a13217-5a88-4a0d-996b-30531c4e7d1a",
   "metadata": {},
   "outputs": [],
   "source": []
  }
 ],
 "metadata": {
  "kernelspec": {
   "display_name": "Python 3 (ipykernel)",
   "language": "python",
   "name": "python3"
  },
  "language_info": {
   "codemirror_mode": {
    "name": "ipython",
    "version": 3
   },
   "file_extension": ".py",
   "mimetype": "text/x-python",
   "name": "python",
   "nbconvert_exporter": "python",
   "pygments_lexer": "ipython3",
   "version": "3.8.19"
  }
 },
 "nbformat": 4,
 "nbformat_minor": 5
}
