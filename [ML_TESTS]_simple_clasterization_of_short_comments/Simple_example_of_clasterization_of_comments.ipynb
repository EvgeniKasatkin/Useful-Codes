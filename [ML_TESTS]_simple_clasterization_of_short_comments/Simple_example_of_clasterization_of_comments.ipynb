{
 "cells": [
  {
   "cell_type": "code",
   "execution_count": 7,
   "id": "e7e7f44c-bd05-41ff-82d9-28d0d7f0beb1",
   "metadata": {},
   "outputs": [],
   "source": [
    "from sklearn.feature_extraction.text import TfidfVectorizer, CountVectorizer\n",
    "from sklearn.cluster import KMeans\n",
    "import re\n",
    "import pandas as pd\n",
    "\n",
    "def preprocessing(line):\n",
    "    line = line.lower()\n",
    "    line = re.sub(r\"[{}]\".format(string.punctuation), \" \", line)\n",
    "    return line\n",
    "    \n",
    "\n",
    "\n",
    "df = pd.read_csv(\"comments_csv\")\n",
    "df = df[df['comment'].notnull()]"
   ]
  },
  {
   "cell_type": "code",
   "execution_count": 9,
   "id": "3f55d319-2a86-4992-b192-ab99772a3156",
   "metadata": {},
   "outputs": [],
   "source": [
    "vectorizer = TfidfVectorizer(\n",
    "            tokenizer=lambda x: x,\n",
    "            preprocessor=lambda x: x,\n",
    "            token_pattern=None,\n",
    "            strip_accents='unicode',\n",
    "            analyzer = 'word',\n",
    "            ngram_range=(1,4),\n",
    "            sublinear_tf=True,max_features=250\n",
    ")\n",
    "X = vectorizer.fit_transform(df['comment'])\n",
    "X = X.toarray()\n",
    "tfidf_df = pd.DataFrame(X, columns=[f'feature_{i}' for i in range(X.shape[1])])\n",
    "\n",
    "\n",
    "vectorizer_cnt = CountVectorizer(\n",
    "            tokenizer=lambda x: x,\n",
    "            preprocessor=lambda x: x,\n",
    "            token_pattern=None,\n",
    "            strip_accents='unicode',\n",
    "            analyzer = 'word',\n",
    "            ngram_range=(1,4),\n",
    "            max_features=250\n",
    ")\n",
    "train_tfid = vectorizer_cnt.fit_transform([i for i in df['comment']])"
   ]
  },
  {
   "cell_type": "code",
   "execution_count": 11,
   "id": "62fd2a9d-e326-40d8-aab0-a6e64cf8b409",
   "metadata": {},
   "outputs": [
    {
     "name": "stderr",
     "output_type": "stream",
     "text": [
      "/opt/anaconda3/lib/python3.8/site-packages/sklearn/cluster/_kmeans.py:1412: FutureWarning: The default value of `n_init` will change from 10 to 'auto' in 1.4. Set the value of `n_init` explicitly to suppress the warning\n",
      "  super()._check_params_vs_input(X, default_n_init=10)\n"
     ]
    }
   ],
   "source": [
    "kmeans = KMeans(n_clusters=2).fit(train_tfid)"
   ]
  },
  {
   "cell_type": "code",
   "execution_count": 13,
   "id": "45f8e925-1a99-4306-9284-e3a9626842da",
   "metadata": {},
   "outputs": [
    {
     "data": {
      "text/plain": [
       "array([0, 1], dtype=int32)"
      ]
     },
     "execution_count": 13,
     "metadata": {},
     "output_type": "execute_result"
    }
   ],
   "source": [
    "lines_for_predicting = [\n",
    " 'comment 1',\n",
    " 'comment 2']\n",
    "kmeans.predict(vectorizer_cnt.transform(lines_for_predicting))"
   ]
  },
  {
   "cell_type": "code",
   "execution_count": null,
   "id": "72a13217-5a88-4a0d-996b-30531c4e7d1a",
   "metadata": {},
   "outputs": [],
   "source": []
  }
 ],
 "metadata": {
  "kernelspec": {
   "display_name": "Python 3 (ipykernel)",
   "language": "python",
   "name": "python3"
  },
  "language_info": {
   "codemirror_mode": {
    "name": "ipython",
    "version": 3
   },
   "file_extension": ".py",
   "mimetype": "text/x-python",
   "name": "python",
   "nbconvert_exporter": "python",
   "pygments_lexer": "ipython3",
   "version": "3.8.19"
  }
 },
 "nbformat": 4,
 "nbformat_minor": 5
}
