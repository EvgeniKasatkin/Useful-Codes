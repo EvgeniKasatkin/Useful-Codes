{
 "cells": [
  {
   "cell_type": "code",
   "execution_count": 1,
   "id": "5591c9c0-b99f-4cbc-993e-25ae27b1d549",
   "metadata": {},
   "outputs": [
    {
     "data": {
      "text/html": [
       "<div>\n",
       "<style scoped>\n",
       "    .dataframe tbody tr th:only-of-type {\n",
       "        vertical-align: middle;\n",
       "    }\n",
       "\n",
       "    .dataframe tbody tr th {\n",
       "        vertical-align: top;\n",
       "    }\n",
       "\n",
       "    .dataframe thead th {\n",
       "        text-align: right;\n",
       "    }\n",
       "</style>\n",
       "<table border=\"1\" class=\"dataframe\">\n",
       "  <thead>\n",
       "    <tr style=\"text-align: right;\">\n",
       "      <th></th>\n",
       "      <th>y_true</th>\n",
       "      <th>y_pred1</th>\n",
       "      <th>y_pred2</th>\n",
       "    </tr>\n",
       "  </thead>\n",
       "  <tbody>\n",
       "    <tr>\n",
       "      <th>0</th>\n",
       "      <td>0</td>\n",
       "      <td>0</td>\n",
       "      <td>0</td>\n",
       "    </tr>\n",
       "    <tr>\n",
       "      <th>1</th>\n",
       "      <td>1</td>\n",
       "      <td>1</td>\n",
       "      <td>1</td>\n",
       "    </tr>\n",
       "    <tr>\n",
       "      <th>2</th>\n",
       "      <td>1</td>\n",
       "      <td>1</td>\n",
       "      <td>1</td>\n",
       "    </tr>\n",
       "    <tr>\n",
       "      <th>3</th>\n",
       "      <td>0</td>\n",
       "      <td>1</td>\n",
       "      <td>0</td>\n",
       "    </tr>\n",
       "    <tr>\n",
       "      <th>4</th>\n",
       "      <td>1</td>\n",
       "      <td>1</td>\n",
       "      <td>1</td>\n",
       "    </tr>\n",
       "  </tbody>\n",
       "</table>\n",
       "</div>"
      ],
      "text/plain": [
       "   y_true  y_pred1  y_pred2\n",
       "0       0        0        0\n",
       "1       1        1        1\n",
       "2       1        1        1\n",
       "3       0        1        0\n",
       "4       1        1        1"
      ]
     },
     "execution_count": 1,
     "metadata": {},
     "output_type": "execute_result"
    }
   ],
   "source": [
    "import pandas as pd\n",
    "df_two_test_compare = pd.read_csv(str('link_to_csv_file'), on_bad_lines='skip')\n",
    "df_two_test_compare.head()"
   ]
  },
  {
   "cell_type": "code",
   "execution_count": 3,
   "id": "698fa8f8-964c-4cb1-9b42-f252fbb8b6f1",
   "metadata": {},
   "outputs": [
    {
     "name": "stdout",
     "output_type": "stream",
     "text": [
      "<class 'pandas.core.frame.DataFrame'>\n",
      "RangeIndex: 10000 entries, 0 to 9999\n",
      "Data columns (total 3 columns):\n",
      " #   Column   Non-Null Count  Dtype\n",
      "---  ------   --------------  -----\n",
      " 0   y_true   10000 non-null  int64\n",
      " 1   y_pred1  10000 non-null  int64\n",
      " 2   y_pred2  10000 non-null  int64\n",
      "dtypes: int64(3)\n",
      "memory usage: 234.5 KB\n"
     ]
    }
   ],
   "source": [
    "df_two_test_compare.info()"
   ]
  },
  {
   "cell_type": "code",
   "execution_count": 5,
   "id": "7f728383-0d08-4a40-b7fe-499c3fd908bc",
   "metadata": {},
   "outputs": [
    {
     "name": "stdout",
     "output_type": "stream",
     "text": [
      "Precisions First test 0.9179580674567, 0.9179580674567\n",
      "Precisions Second test 0.9508357915437562, 0.9508357915437562\n",
      "\n",
      "\n",
      "Recall First test 0.9901671583087512, 0.9901671583087512\n",
      "Recall Second test 0.9508357915437562, 0.9508357915437562\n",
      "\n",
      "\n",
      "F1-score First test 0.9526963103122044, 0.9526963103122044\n",
      "F1-score Second test 0.9508357915437561, 0.9508357915437561\n",
      "First test better than second\n"
     ]
    }
   ],
   "source": [
    "from sklearn.metrics import confusion_matrix, recall_score, precision_score, f1_score\n",
    "\n",
    "\n",
    "#First test:\n",
    "tn1, fp1, fn1, tp1 = confusion_matrix(df_two_test_compare['y_true'], df_two_test_compare['y_pred1']).ravel() \n",
    "\n",
    "#Second test:\n",
    "tn2, fp2, fn2, tp2 = confusion_matrix(df_two_test_compare['y_true'], df_two_test_compare['y_pred2']).ravel() \n",
    "\n",
    "#Precisions:\n",
    "precision1_1 = tp1 / (tp1 + fp1)\n",
    "precision1_2 = precision_score(df_two_test_compare['y_true'], df_two_test_compare['y_pred1'])\n",
    "precision2_1 = tp2 / (tp2 + fp2) \n",
    "precision2_2 = precision_score(df_two_test_compare['y_true'], df_two_test_compare['y_pred2'])\n",
    "\n",
    "#Recall:\n",
    "recall1_1 = tp1 / (tp1 + fn1)\n",
    "recall1_2 = recall_score(df_two_test_compare['y_true'], df_two_test_compare['y_pred1'])\n",
    "recall2_1 = tp2 / (tp2 + fn2)\n",
    "recall2_2 = recall_score(df_two_test_compare['y_true'], df_two_test_compare['y_pred2'])\n",
    "\n",
    "print('Precisions First test {}, {}'.format(precision1_1, precision1_2))\n",
    "print('Precisions Second test {}, {}'.format(precision2_1, precision2_2))\n",
    "print('\\n')\n",
    "print('Recall First test {}, {}'.format(recall1_1, recall1_2))\n",
    "print('Recall Second test {}, {}'.format(recall2_1, recall2_2))\n",
    "print('\\n')\n",
    "\n",
    "#F1-Score:\n",
    "f1_score_1_1 = 2 * (precision1_1 * recall1_1)/(precision1_1 + recall1_1)\n",
    "f1_score_1_2 = f1_score(df_two_test_compare['y_true'], df_two_test_compare['y_pred1'])\n",
    "print('F1-score First test {}, {}'.format(f1_score_1_1, f1_score_1_2))\n",
    "f1_score_2_1 = 2 * (precision2_1 * recall2_1)/(precision2_1 + recall2_1)\n",
    "f1_score_2_2 = f1_score(df_two_test_compare['y_true'], df_two_test_compare['y_pred2'])\n",
    "print('F1-score Second test {}, {}'.format(f1_score_2_1, f1_score_2_2))\n",
    "\n",
    "if f1_score_1_2 > f1_score_2_2:\n",
    "    print('First test better than second')\n",
    "elif f1_score_1_2 < f1_score_2_2:\n",
    "    print('Second test better then first')\n",
    "elif f1_score_1_2 == f1_score_2_2:\n",
    "    print('Tests are equals')"
   ]
  },
  {
   "cell_type": "code",
   "execution_count": null,
   "id": "8d91cd2b-70c4-42f3-95d5-177a83253e25",
   "metadata": {},
   "outputs": [],
   "source": []
  }
 ],
 "metadata": {
  "kernelspec": {
   "display_name": "Python 3 (ipykernel)",
   "language": "python",
   "name": "python3"
  },
  "language_info": {
   "codemirror_mode": {
    "name": "ipython",
    "version": 3
   },
   "file_extension": ".py",
   "mimetype": "text/x-python",
   "name": "python",
   "nbconvert_exporter": "python",
   "pygments_lexer": "ipython3",
   "version": "3.8.19"
  }
 },
 "nbformat": 4,
 "nbformat_minor": 5
}
